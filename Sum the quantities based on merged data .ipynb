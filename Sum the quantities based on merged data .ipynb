{
 "cells": [
  {
   "cell_type": "markdown",
   "metadata": {},
   "source": [
    "## Filtering data based on 2 columns and then sum its quantity\n",
    "<br>\n",
    "Example data:"
   ]
  },
  {
   "cell_type": "code",
   "execution_count": 1,
   "metadata": {},
   "outputs": [
    {
     "name": "stdout",
     "output_type": "stream",
     "text": [
      "  Products  Tiers  Quantity\n",
      "0    Alpha      1        20\n",
      "1    Alpha      1        10\n",
      "2    Alpha      2        10\n",
      "3    Bravo      1        10\n",
      "4    Bravo      3        20\n",
      "5    Bravo      3        10\n",
      "6  Charlie      4         5\n",
      "7  Charlie      4        40\n",
      "8  Charlie      5         3\n"
     ]
    }
   ],
   "source": [
    "import pandas as pd\n",
    "products = ['Alpha','Alpha','Alpha','Bravo','Bravo','Bravo','Charlie','Charlie','Charlie']\n",
    "tiers = [1, 1, 2, 1, 3, 3, 4, 4, 5]\n",
    "quantity = [20, 10, 10, 10, 20, 10, 5, 40, 3]\n",
    "df = pd.DataFrame({'Products': products, 'Tiers': tiers, 'Quantity': quantity})\n",
    "print(df)"
   ]
  },
  {
   "cell_type": "markdown",
   "metadata": {},
   "source": [
    "We have duplicate Products and Tiers and we want to sum up the total quantity for each unique combination."
   ]
  },
  {
   "cell_type": "markdown",
   "metadata": {},
   "source": [
    "The answer we want should look like:"
   ]
  },
  {
   "cell_type": "code",
   "execution_count": 2,
   "metadata": {},
   "outputs": [
    {
     "name": "stdout",
     "output_type": "stream",
     "text": [
      "  Products  Tiers  Quantity\n",
      "0    Alpha      1        30\n",
      "1    Alpha      2        10\n",
      "2    Bravo      1        10\n",
      "3    Bravo      3        30\n",
      "4  Charlie      4        45\n",
      "5  Charlie      5         3\n"
     ]
    }
   ],
   "source": [
    "productsResult = ['Alpha','Alpha','Bravo','Bravo','Charlie','Charlie']\n",
    "tiersResult = [1, 2, 1, 3, 4, 5]\n",
    "quantityResult = [30, 10, 10, 30, 45, 3]\n",
    "dfResult = pd.DataFrame({'Products': productsResult, 'Tiers': tiersResult, 'Quantity': quantityResult})\n",
    "print(dfResult)"
   ]
  },
  {
   "cell_type": "markdown",
   "metadata": {},
   "source": [
    "We can verfiy this easily by doing the following:"
   ]
  },
  {
   "cell_type": "code",
   "execution_count": 3,
   "metadata": {},
   "outputs": [
    {
     "name": "stdout",
     "output_type": "stream",
     "text": [
      "                Quantity\n",
      "Products Tiers          \n",
      "Alpha    1            30\n",
      "         2            10\n",
      "Bravo    1            10\n",
      "         3            30\n",
      "Charlie  4            45\n",
      "         5             3\n"
     ]
    }
   ],
   "source": [
    "answer = df.groupby(['Products','Tiers']).sum()\n",
    "print(answer)"
   ]
  }
 ],
 "metadata": {
  "kernelspec": {
   "display_name": "Python 3",
   "language": "python",
   "name": "python3"
  },
  "language_info": {
   "codemirror_mode": {
    "name": "ipython",
    "version": 3
   },
   "file_extension": ".py",
   "mimetype": "text/x-python",
   "name": "python",
   "nbconvert_exporter": "python",
   "pygments_lexer": "ipython3",
   "version": "3.7.3"
  }
 },
 "nbformat": 4,
 "nbformat_minor": 2
}
