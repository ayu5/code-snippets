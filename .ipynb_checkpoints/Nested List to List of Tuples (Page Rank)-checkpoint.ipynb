{
 "cells": [
  {
   "cell_type": "markdown",
   "metadata": {},
   "source": [
    "# Combining two lists of list to a list of tuples"
   ]
  },
  {
   "cell_type": "markdown",
   "metadata": {},
   "source": [
    "quick definitions:\n",
    "<li><b>list</b> is a collection of objects</li>\n",
    "<li><b>list of lists</b> (or nested list) is a collection of lists</li>\n",
    "<li><b>tuple</b> is a list that uses parentheses instead of brackets</li>"
   ]
  },
  {
   "cell_type": "markdown",
   "metadata": {},
   "source": [
    "For example we want to combine 2 nested list into a list of tuples"
   ]
  },
  {
   "cell_type": "code",
   "execution_count": 1,
   "metadata": {},
   "outputs": [],
   "source": [
    "nestedList1 = [[1,2,3],[3],[0,3],[1]]\n",
    "nestedList2 = [[.0833, .0833, .0833],[.2],[.175,.175],[.2]]\n",
    "\n",
    "whatWeWant = [(1,.0833), (2,.0833), (3,.0833), (3,.2), (0,.175), (3,.175), (1,.2)]"
   ]
  },
  {
   "cell_type": "markdown",
   "metadata": {},
   "source": [
    "Here are some ways of going about this"
   ]
  },
  {
   "cell_type": "markdown",
   "metadata": {},
   "source": [
    "### Method #1: use list comprehension"
   ]
  },
  {
   "cell_type": "code",
   "execution_count": 2,
   "metadata": {},
   "outputs": [
    {
     "name": "stdout",
     "output_type": "stream",
     "text": [
      "[(1, 0.0833), (2, 0.0833), (3, 0.0833), (3, 0.2), (0, 0.175), (3, 0.175), (1, 0.2)]\n"
     ]
    }
   ],
   "source": [
    "print([(u, v) for x, y in zip(nestedList1, nestedList2) for u, v in zip(x, y)])"
   ]
  },
  {
   "cell_type": "code",
   "execution_count": 3,
   "metadata": {},
   "outputs": [
    {
     "name": "stdout",
     "output_type": "stream",
     "text": [
      "[(1, 0.0833), (2, 0.0833), (3, 0.0833), (3, 0.2), (0, 0.175), (3, 0.175), (1, 0.2)]\n"
     ]
    }
   ],
   "source": [
    "#in a more readable format\n",
    "answer = []\n",
    "for L1, L2 in zip(nestedList1, nestedList2):\n",
    "    for number, prob in zip(L1, L2):\n",
    "        answer.append((number, prob))\n",
    "print(answer)"
   ]
  },
  {
   "cell_type": "markdown",
   "metadata": {},
   "source": [
    "### Method #2: use itertools.chain"
   ]
  },
  {
   "cell_type": "code",
   "execution_count": 4,
   "metadata": {},
   "outputs": [
    {
     "name": "stdout",
     "output_type": "stream",
     "text": [
      "[(1, 0.0833), (2, 0.0833), (3, 0.0833), (3, 0.2), (0, 0.175), (3, 0.175), (1, 0.2)]\n"
     ]
    }
   ],
   "source": [
    "from itertools import chain\n",
    "\n",
    "print(list(zip(chain.from_iterable(nestedList1), chain.from_iterable(nestedList2))))"
   ]
  },
  {
   "cell_type": "markdown",
   "metadata": {},
   "source": [
    "Applications:\n",
    "<br>\n",
    "Markov Chains, Page Rank; (x,y) where x is the state and y is the probabilility \n",
    "<br>\n",
    "we want a list of tuples so we do not need to make a transition matrix"
   ]
  }
 ],
 "metadata": {
  "kernelspec": {
   "display_name": "Python 3",
   "language": "python",
   "name": "python3"
  },
  "language_info": {
   "codemirror_mode": {
    "name": "ipython",
    "version": 3
   },
   "file_extension": ".py",
   "mimetype": "text/x-python",
   "name": "python",
   "nbconvert_exporter": "python",
   "pygments_lexer": "ipython3",
   "version": "3.7.3"
  }
 },
 "nbformat": 4,
 "nbformat_minor": 2
}
